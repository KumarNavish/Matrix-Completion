{
 "cells": [
  {
   "cell_type": "markdown",
   "metadata": {},
   "source": [
    "## Importing required libraries"
   ]
  },
  {
   "cell_type": "code",
   "execution_count": 103,
   "metadata": {
    "ExecuteTime": {
     "end_time": "2019-10-06T22:42:27.018047Z",
     "start_time": "2019-10-06T22:42:27.011898Z"
    }
   },
   "outputs": [],
   "source": [
    "from numpy.linalg import matrix_rank\n",
    "import numpy as np\n",
    "import pickle\n",
    "import itertools\n",
    "import numpy.linalg as la\n",
    "import scipy.linalg as spla\n",
    "import sys\n",
    "import random\n",
    "import time\n",
    "import sklearn\n",
    "from sklearn import datasets\n",
    "from scipy.sparse import csc_matrix\n",
    "from scipy.sparse.linalg import spsolve\n",
    "\n",
    "# for finite field calculation\n",
    "from sympy.matrices import *\n",
    "\n",
    "k_dict = {}\n",
    "# row_order,col_order = (40,30) \n",
    "# with open(f'{row_order}x{col_order}.pkl','rb') as fp:\n",
    "#     k_dict = pickle.load(fp)"
   ]
  },
  {
   "cell_type": "markdown",
   "metadata": {},
   "source": [
    "## Get signature of a vector"
   ]
  },
  {
   "cell_type": "code",
   "execution_count": 155,
   "metadata": {
    "ExecuteTime": {
     "end_time": "2019-10-06T23:20:57.333431Z",
     "start_time": "2019-10-06T23:20:57.321296Z"
    }
   },
   "outputs": [
    {
     "name": "stdout",
     "output_type": "stream",
     "text": [
      "A:30, A:5\n"
     ]
    },
    {
     "data": {
      "text/plain": [
       "array([[1., 2., 0., ..., 1., 1., 3.],\n",
       "       [2., 1., 1., ..., 3., 1., 2.],\n",
       "       [1., 3., 2., ..., 2., 1., 3.],\n",
       "       ...,\n",
       "       [4., 3., 4., ..., 2., 1., 1.],\n",
       "       [4., 0., 4., ..., 1., 3., 4.],\n",
       "       [0., 2., 3., ..., 3., 2., 1.]])"
      ]
     },
     "execution_count": 155,
     "metadata": {},
     "output_type": "execute_result"
    }
   ],
   "source": [
    "def get_original_matrix():\n",
    "    np.random.seed(0)\n",
    "    L = np.array(np.random.randint(5,size=(100,5)),dtype=float)\n",
    "    R = np.array(np.random.randint(5,size=(30,5)),dtype=float)\n",
    "    A = L.dot(R.T)%5\n",
    "    return A, L.dot(R.T)\n",
    "A, A_ = get_original_matrix()\n",
    "print(f'A:{matrix_rank(A)}, A:{matrix_rank(A_)}')\n",
    "A"
   ]
  },
  {
   "cell_type": "markdown",
   "metadata": {},
   "source": [
    "### Function for row and col indices for missing values"
   ]
  },
  {
   "cell_type": "code",
   "execution_count": 106,
   "metadata": {
    "ExecuteTime": {
     "end_time": "2019-10-06T22:45:37.051165Z",
     "start_time": "2019-10-06T22:45:37.044693Z"
    }
   },
   "outputs": [],
   "source": [
    "# for a vector\n",
    "def sgn(x): \n",
    "    return [i[0] for i in np.argwhere(np.isnan(x))]\n",
    "\n",
    "#~~~~~~~~~~~~~~~~~~~~~~~~~~~~~~~~~~~~~~~~~~~~~~~~~~~~~~~~~~~~~~~~~\n",
    "# for a matrix\n",
    "def signature(Y): \n",
    "    if np.count_nonzero(np.isnan(Y)) == 0:\n",
    "        return [],[]\n",
    "    else:\n",
    "        missing_row_indices, missing_col_indices = zip(*np.argwhere(np.isnan(Y)))\n",
    "        missing_row_indices,missing_col_indices = list(set(missing_row_indices)), list(set(missing_col_indices))\n",
    "        return missing_row_indices, missing_col_indices"
   ]
  },
  {
   "cell_type": "markdown",
   "metadata": {},
   "source": [
    "## FPT Algorithm"
   ]
  },
  {
   "cell_type": "code",
   "execution_count": 156,
   "metadata": {
    "ExecuteTime": {
     "end_time": "2019-10-07T00:00:08.812943Z",
     "start_time": "2019-10-07T00:00:08.745942Z"
    }
   },
   "outputs": [
    {
     "name": "stdout",
     "output_type": "stream",
     "text": [
      "Rank of A: 8 | Shape: (10, 8)\n",
      "Updated Non-missing column indices: [7]\n",
      "Updated Non-missing column indices: [0, 7]\n",
      "Updated Non-missing column indices: [0, 1, 7]\n",
      "Updated Non-missing column indices: [0, 1, 2, 7]\n",
      "Oops!This Matrix is a no instance\n",
      " [[ 3.  0.  0.  2. nan  3. nan  4.]\n",
      " [ 1.  3.  0.  2. nan nan  2.  3.]\n",
      " [ 2.  0.  0.  4. nan  1.  4.  2.]\n",
      " [ 2.  2.  4.  0. nan nan  4.  3.]\n",
      " [ 0.  0.  0.  0.  4.  3.  3.  0.]\n",
      " [ 3.  2.  2.  3.  4.  1.  0.  0.]\n",
      " [ 1.  0.  3.  4.  3.  1.  4.  3.]\n",
      " [ 0.  4.  2.  1.  4.  1.  0.  3.]\n",
      " [ 4.  3.  1.  3.  0.  1.  1.  3.]\n",
      " [ 1.  3.  2.  4.  3.  3.  2.  0.]]\n",
      "The optimal filling that exists is:\n",
      " [[ 3.  0.  0.  2. nan  3. nan  4.]\n",
      " [ 1.  3.  0.  2. nan nan  2.  3.]\n",
      " [ 2.  0.  0.  4. nan  1.  4.  2.]\n",
      " [ 2.  2.  4.  0. nan nan  4.  3.]\n",
      " [ 0.  0.  0.  0.  4.  3.  3.  0.]\n",
      " [ 3.  2.  2.  3.  4.  1.  0.  0.]\n",
      " [ 1.  0.  3.  4.  3.  1.  4.  3.]\n",
      " [ 0.  4.  2.  1.  4.  1.  0.  3.]\n",
      " [ 4.  3.  1.  3.  0.  1.  1.  3.]\n",
      " [ 1.  3.  2.  4.  3.  3.  2.  0.]]\n",
      "The optimal filling that exists is:\n",
      " [[ 3.  0.  0.  2. nan  3. nan  4.]\n",
      " [ 1.  3.  0.  2. nan nan  2.  3.]\n",
      " [ 2.  0.  0.  4. nan  1.  4.  2.]\n",
      " [ 2.  2.  4.  0. nan nan  4.  3.]\n",
      " [ 0.  0.  0.  0.  4.  3.  3.  0.]\n",
      " [ 3.  2.  2.  3.  4.  1.  0.  0.]\n",
      " [ 1.  0.  3.  4.  3.  1.  4.  3.]\n",
      " [ 0.  4.  2.  1.  4.  1.  0.  3.]\n",
      " [ 4.  3.  1.  3.  0.  1.  1.  3.]\n",
      " [ 1.  3.  2.  4.  3.  3.  2.  0.]]\n",
      "The optimal filling that exists is:\n",
      " [[ 3.  0.  0.  2. nan  3. nan  4.]\n",
      " [ 1.  3.  0.  2. nan nan  2.  3.]\n",
      " [ 2.  0.  0.  4. nan  1.  4.  2.]\n",
      " [ 2.  2.  4.  0. nan nan  4.  3.]\n",
      " [ 0.  0.  0.  0.  4.  3.  3.  0.]\n",
      " [ 3.  2.  2.  3.  4.  1.  0.  0.]\n",
      " [ 1.  0.  3.  4.  3.  1.  4.  3.]\n",
      " [ 0.  4.  2.  1.  4.  1.  0.  3.]\n",
      " [ 4.  3.  1.  3.  0.  1.  1.  3.]\n",
      " [ 1.  3.  2.  4.  3.  3.  2.  0.]]\n",
      "The optimal filling that exists is:\n",
      " [[ 3.  0.  0.  2. nan  3. nan  4.]\n",
      " [ 1.  3.  0.  2. nan nan  2.  3.]\n",
      " [ 2.  0.  0.  4. nan  1.  4.  2.]\n",
      " [ 2.  2.  4.  0. nan nan  4.  3.]\n",
      " [ 0.  0.  0.  0.  4.  3.  3.  0.]\n",
      " [ 3.  2.  2.  3.  4.  1.  0.  0.]\n",
      " [ 1.  0.  3.  4.  3.  1.  4.  3.]\n",
      " [ 0.  4.  2.  1.  4.  1.  0.  3.]\n",
      " [ 4.  3.  1.  3.  0.  1.  1.  3.]\n",
      " [ 1.  3.  2.  4.  3.  3.  2.  0.]]\n"
     ]
    },
    {
     "name": "stderr",
     "output_type": "stream",
     "text": [
      "/home/navish/anaconda3/lib/python3.6/site-packages/numpy/linalg/linalg.py:1881: RuntimeWarning: invalid value encountered in greater\n",
      "  return count_nonzero(S > tol, axis=-1)\n"
     ]
    },
    {
     "data": {
      "text/plain": [
       "array([[ 3.,  0.,  0.,  2., nan,  3., nan,  4.],\n",
       "       [ 1.,  3.,  0.,  2., nan, nan,  2.,  3.],\n",
       "       [ 2.,  0.,  0.,  4., nan,  1.,  4.,  2.],\n",
       "       [ 2.,  2.,  4.,  0., nan, nan,  4.,  3.],\n",
       "       [ 0.,  0.,  0.,  0.,  4.,  3.,  3.,  0.],\n",
       "       [ 3.,  2.,  2.,  3.,  4.,  1.,  0.,  0.],\n",
       "       [ 1.,  0.,  3.,  4.,  3.,  1.,  4.,  3.],\n",
       "       [ 0.,  4.,  2.,  1.,  4.,  1.,  0.,  3.],\n",
       "       [ 4.,  3.,  1.,  3.,  0.,  1.,  1.,  3.],\n",
       "       [ 1.,  3.,  2.,  4.,  3.,  3.,  2.,  0.]])"
      ]
     },
     "execution_count": 156,
     "metadata": {},
     "output_type": "execute_result"
    }
   ],
   "source": [
    "                                                # MATRIX PARAMETERS\n",
    "\n",
    "# Building an incomplete matrix, A of order m*n\n",
    "row_order,col_order = (10,8)   \n",
    "\n",
    "# Sampling probability\n",
    "prob = 0.2\n",
    "\n",
    "#Given rank\n",
    "r = 5\n",
    "rank = 5\n",
    "\n",
    "# GF(p)\n",
    "p = 5\n",
    "\n",
    "# for plotting purposes\n",
    "if f'{row_order}x{col_order}' not in k_dict.keys():\n",
    "    k_dict[f'{row_order}x{col_order}']={}\n",
    "    k_dict[f'{row_order}x{col_order}']['row_order'] = row_order\n",
    "    k_dict[f'{row_order}x{col_order}']['col_order'] = col_order\n",
    "    k_dict[f'{row_order}x{col_order}']['prob'] = []\n",
    "    k_dict[f'{row_order}x{col_order}']['#missing_entries'] = []\n",
    "    k_dict[f'{row_order}x{col_order}']['k'] = []\n",
    "    k_dict[f'{row_order}x{col_order}']['r'] = []\n",
    "    k_dict[f'{row_order}x{col_order}']['FPTtime'] = []\n",
    "    k_dict[f'{row_order}x{col_order}']['ConvexTime'] = []\n",
    "\n",
    "#@@@@@@@@@@@@@@@@@@@@@@@@@@@@@@@@@@@@@@@@@@@@@@@@@@@@@@@@@@@@@@@@@@@@@@@@@@@@@\n",
    "# Function for getting the original matrix and random samples\n",
    "def get_original_matrix():\n",
    "    np.random.seed(0)\n",
    "    L = np.array(np.random.randint(p,size=(row_order,rank)),dtype=float)\n",
    "    R = np.array(np.random.randint(p,size=(col_order,rank)),dtype=float)\n",
    "    A = L.dot(R.T)%p\n",
    "    random.seed(0)\n",
    "    samples = random.sample([(i, j) for i in range(5) for j in range(col_order-1)], int(row_order*col_order*prob))\n",
    "    return A,samples\n",
    " #@@@@@@@@@@@@@@@@@@@@@@@@@@@@@@@@@@@@@@@@@@@@@@@@@@@@@@@@@@@@@@@@@@@@@@@@@@@@@\n",
    "    \n",
    "A,samples = get_original_matrix()\n",
    "k_dict[f'{row_order}x{col_order}']['prob'].append(prob)\n",
    "\n",
    "print(f'Rank of A: {matrix_rank(A)} | Shape: {A.shape}')\n",
    "#Putting NaNs after sampling the matrix\n",
    "for i,j in samples:\n",
    "    A[i,j] = np.nan\n",
    "\n",
    "\n",
    "# number of rows containing missing entries\n",
    "k,_ = signature(A)   \n",
    "k = len(k)\n",
    "k_dict[f'{row_order}x{col_order}']['k'].append(k)\n",
    "\n",
    "\n",
    "# starting time\n",
    "start = time.time()\n",
    "#****************************************************************************\n",
    "                                 \n",
    "def MatrixCompletion(A,r):\n",
    "    \n",
    "#     print('Matrix A:\\n',A,end='\\n\\n')\n",
    "    #~~~~~~~~~~~~~~~~~~~~~~~~~~~~~~~~~~~~~~~~~~~~~~~~~~~~~~~~~~~~~~~~~~~~~~~~~\n",
    "                                                # Defining Functions\n",
    "    \n",
    "    #use function defined in previous cell\n",
    "    compl_M, compl_N = signature(A) \n",
    "    M,N = [i for i in range(row_order) if i not in compl_M], [i for i in range(col_order) if i not in compl_N]\n",
    "\n",
    "#     print(f'Non-Missing indices, M:{M}, N:{N} \\n')\n",
    "    #number of rows containing missing entries\n",
    "\n",
    "    # M,N\n",
    "\n",
    "    #~~~~~~~~~~~~~~~~~~~~~~~~~~~~~~~~~~~~~~~~~~~~~~~~~~~~~~~~~~~~~~~~~~~~~~~~~~\n",
    "                                                       # Checking for No instance\n",
    "    if (matrix_rank(A[M]) > r) or (matrix_rank(A[:,N])) > r:\n",
    "        print ('Oops!This Matrix is a no instance\\n', A)\n",
    "        return A\n",
    "#     else:\n",
    "#         print ('It is safe to move ahead with the algorithm\\n')\n",
    "\n",
    "\n",
    "    #~~~~~~~~~~~~~~~~~~~~~~~~~~~~~~~~~~~~~~~~~~~~~~~~~~~~~~~~~~~~~~~~~~~~~~~~~~~\n",
    "                                                        # Algorithm 1: Line 6-20 \n",
    "    B = A[:,N]\n",
    "#     print(f'Matrix B and compl_N:{compl_N} :\\n',B)\n",
    "\n",
    "    for j in compl_N:\n",
    "        S = sgn(A[:,j])\n",
    "        compl_S = [i for i in range(row_order) if i not in S]   ## A[np.ix_(M,N)] for calculating submatrices\n",
    "        \n",
    "#         print(f'Inside for loop S:{S}\\n')\n",
    "#         print(f'Inside for loop compl_S:{compl_S}\\n')\n",
    "#         print('Column space checking: \\n', np.c_[(B[compl_S,:], A[compl_S,j])],'\\n')\n",
    "#         print(B[compl_S,:],'\\n')\n",
    "#         print(A[compl_S,j],'\\n')\n",
    "                  \n",
    "        # Checking if the vector lies in column space of B\n",
    "        if matrix_rank(np.c_[(B[compl_S,:], A[compl_S,j])]) == matrix_rank(B[compl_S,:]):\n",
    "            \n",
    "            #Solving system of linear equations\n",
    "            \n",
    "#$$$$$$$$$$$$$$$$$$$$$$$$$$$$$$$$$$$$$$$$$$$$$$$$$$$$$$$$$$$$$$$$$$$$$$$$$$$$$$$$\n",
    "                                 #Normal LinAlg method\n",
    "#             v = np.linalg.solve(B[compl_S,:], A[compl_S,j])\n",
    "#             Q, R = la.qr(B[compl_S,:])\n",
    "#             v = spla.solve_triangular(R, Q.T.dot(A[compl_S,j]), lower=False)\n",
    "#$$$$$$$$$$$$$$$$$$$$$$$$$$$$$$$$$$$$$$$$$$$$$$$$$$$$$$$$$$$$$$$$$$$$$$$$$$$$$$$$\n",
    "                                # Sage mode\n",
    "#             sympy_A, sympy_b = Matrix(B[compl_S,:]), Matrix(A[compl_S,j])\n",
    "#             v = sympy_A.inv_mod(p).dot(sympy_b)\n",
    "#$$$$$$$$$$$$$$$$$$$$$$$$$$$$$$$$$$$$$$$$$$$$$$$$$$$$$$$$$$$$$$$$$$$$$$$$$$$$$$$$$\n",
    "                                # Using Sparse matrices\n",
    "            sparse_A, sparse_b = csc_matrix(B[compl_S,:]), csc_matrix(A[compl_S,j])\n",
    "            v = spsolve(sparse_A, sparse_b.T)\n",
    "#$$$$$$$$$$$$$$$$$$$$$$$$$$$$$$$$$$$$$$$$$$$$$$$$$$$$$$$$$$$$$$$$$$$$$$$$$$$$$$$$$\n",
    "\n",
    "            #filling missing values with obtained solution\n",
    "            sparse_B, sparse_v = csc_matrix(B[S,:]), csc_matrix(v)\n",
    "            print(f'sparse A & b: {sparse_A.toarray()} -------- {sparse_b.T.toarray()}')\n",
    "            print(f'sparse v: {sparse_v.toarray()}')\n",
    "            print(f'sparse_B: {sparse_B.toarray()}')\n",
    "            A[S,j] = (sparse_B.dot(sparse_v.T)).reshape((sparse_B.shape[0],)).toarray()\n",
    "#             A[S,j] = B[S,:].dot(v)\n",
    "            \n",
    "            \n",
    "\n",
    "    #getting new values for N\n",
    "    _, compl_N = signature(A) \n",
    "    N = [i for i in range(col_order) if i not in compl_N]\n",
    "    print(f'Updated Non-missing column indices: {N}')\n",
    "    \n",
    "    \n",
    "    #updating B with new values of N\n",
    "    B = A[:,N]\n",
    "\n",
    "    #%%%%%%%%%%%%%%%%%%%%%%%%%%%%%%%%%%%%%%%%%%%%%%%%%%%%%%%%%%%%%%%%%%%%%%%%%%%%%%\n",
    "    if compl_N == []:\n",
    "#         print('We have the filling and that is:\\n', A)\n",
    "        return A\n",
    "    else:\n",
    "        if matrix_rank(B)==r:\n",
    "#             print('Matrix B:\\n',B)\n",
    "            print ('Sorry! Matrix A is a no instance \\n', A)\n",
    "            return A            \n",
    "            \n",
    "            \n",
    "    #~~~~~~~~~~~~~~~~~~~~~~~~~~~~~~~~~~~~~~~~~~~~~~~~~~~~~~~~~~~~~~~~~~~~~~~~~~~~~~~\n",
    "                                                # Algorithm 1: Line 20-32\n",
    "\n",
    "    index = compl_N[0]\n",
    "#     print(f'After basis check, missing entries: {compl_N} \\n')\n",
    "    S = sgn(A[:,index])\n",
    "\n",
    "    # Get all combinations to branch over\n",
    "    all_combinations = [p for p in itertools.product(list(range(p)), repeat=len(S))]\n",
    "#     print(all_combinations)\n",
    "    \n",
    "    for v in all_combinations:\n",
    "        C = A\n",
    "        C[S,index] = v\n",
    "        \n",
    "#         print('Matrix C: \\n',C,'\\n\\n')\n",
    "        \n",
    "        #filling returned\n",
    "        A_ = MatrixCompletion(C,r)\n",
    "    #%%%%%%%%%%%%%%%%%%%%%%%%%%%%%%%%%%%%%%%%%%%%%%%%%%%%%%%%%%%%%%%%%%%%%%%%%%%%%%%\n",
    "        if matrix_rank(A_)<= r:\n",
    "            print('The optimal filling that exists is:\\n', A_)\n",
    "            return A\n",
    "        else:\n",
    "            print ('Given Matrix A is a no instance\\n',A)\n",
    "            return A\n",
    "#~~~~~~~~~~~~~~~~~~~~~~~~~~~~~~~~~~~~~~~~~~~~~~~~~~~~~~~~~~~~~~~~~~~~~~~~~~~~~~~~~~~\n",
    "MatrixCompletion(A,r)\n",
    "# #ending time\n",
    "end = time.time()\n",
    "k_dict[f'{row_order}x{col_order}']['FPTtime'].append(end-start)"
   ]
  },
  {
   "cell_type": "markdown",
   "metadata": {},
   "source": [
    "## Optimal Filling obtained after our algorithm"
   ]
  },
  {
   "cell_type": "code",
   "execution_count": 157,
   "metadata": {
    "ExecuteTime": {
     "end_time": "2019-10-07T00:00:14.474184Z",
     "start_time": "2019-10-07T00:00:14.466039Z"
    }
   },
   "outputs": [
    {
     "name": "stdout",
     "output_type": "stream",
     "text": [
      "Optimal filling of Rank: 0\n",
      " [[ 3.  0.  0.  2. nan  3. nan  4.]\n",
      " [ 1.  3.  0.  2. nan nan  2.  3.]\n",
      " [ 2.  0.  0.  4. nan  1.  4.  2.]\n",
      " [ 2.  2.  4.  0. nan nan  4.  3.]\n",
      " [ 0.  0.  0.  0.  4.  3.  3.  0.]\n",
      " [ 3.  2.  2.  3.  4.  1.  0.  0.]\n",
      " [ 1.  0.  3.  4.  3.  1.  4.  3.]\n",
      " [ 0.  4.  2.  1.  4.  1.  0.  3.]\n",
      " [ 4.  3.  1.  3.  0.  1.  1.  3.]\n",
      " [ 1.  3.  2.  4.  3.  3.  2.  0.]]\n"
     ]
    },
    {
     "name": "stderr",
     "output_type": "stream",
     "text": [
      "/home/navish/anaconda3/lib/python3.6/site-packages/numpy/linalg/linalg.py:1881: RuntimeWarning: invalid value encountered in greater\n",
      "  return count_nonzero(S > tol, axis=-1)\n"
     ]
    }
   ],
   "source": [
    "print(f\"Optimal filling of Rank: {matrix_rank(A)}\\n {A}\")\n",
    "k_dict[f'{row_order}x{col_order}']['r'].append(matrix_rank(A))"
   ]
  },
  {
   "cell_type": "markdown",
   "metadata": {},
   "source": [
    "### Candes and Recht algorithm"
   ]
  },
  {
   "cell_type": "code",
   "execution_count": 158,
   "metadata": {
    "ExecuteTime": {
     "end_time": "2019-10-07T00:00:20.912140Z",
     "start_time": "2019-10-07T00:00:19.869568Z"
    },
    "scrolled": true
   },
   "outputs": [
    {
     "name": "stdout",
     "output_type": "stream",
     "text": [
      "#row of M    : 10\n",
      "#column of M : 8\n",
      "#sample      : 64\n",
      "|M|_*        : 48.239389557854075\n",
      "RANK of M    : 8\n",
      "[21.028337    6.14552252  5.47673391  4.91609227  4.08666166  3.38931138\n",
      "  2.13745692  1.0592739 ]\n",
      "STATUS       : optimal\n",
      "OPTIMAL VALUE: 86.21546690065803\n",
      "|X0-X0.T|_F  : 0.0\n",
      "RANK of X    : 8\n",
      "|X|_*        : 43.10773349706413\n",
      "[2.05259456e+01 6.10125614e+00 5.83174845e+00 4.27246323e+00\n",
      " 2.77824193e+00 2.69777893e+00 9.00299160e-01 2.26123248e-08]\n",
      "TRAIN RMSE   : 1.2098374922832816e-16\n",
      "TEST  RMSE   : 0.11599436969665751\n",
      "|X-M|_F/|M|_F: 0.31148900069379\n"
     ]
    }
   ],
   "source": [
    "import math\n",
    "import itertools\n",
    "from cvxpy import *\n",
    "\n",
    "# Noting starting time\n",
    "start = time.time()\n",
    "\n",
    "#~~~~~~~~~~~~~~~~~~~~~~~~~~~~~~~~~~~~~~~~~~~~~~~~~~~~~~~~~~~~~~~~~~~~\n",
    "def _solve(M, omega):\n",
    "    n_1 = M.shape[0]\n",
    "    n_2 = M.shape[1]\n",
    "    X_ = Semidef(n_1 + n_2)\n",
    "    objective = Minimize(trace(X_))\n",
    "\n",
    "    constraints = [(X_ == X_.T)]  # add symmetric constraint.\n",
    "    for i, j in omega:\n",
    "        constr = (X_[i, j + n_1] == M[i, j])\n",
    "        constraints.append(constr)\n",
    "    problem = Problem(objective, constraints)\n",
    "    problem.solve(solver=CVXOPT)\n",
    "\n",
    "    print(\"STATUS       :\", problem.status)\n",
    "    print(\"OPTIMAL VALUE:\", problem.value)\n",
    "\n",
    "    X0 = X_.value\n",
    "    # check optimizer's solution is symmetric.\n",
    "    print(\"|X0-X0.T|_F  :\", np.linalg.norm(np.subtract(X0, X0.T), \"fro\"))\n",
    "    return X_.value[:n_1, n_1:]\n",
    "\n",
    "#~~~~~~~~~~~~~~~~~~~~~~~~~~~~~~~~~~~~~~~~~~~~~~~~~~~~~~~~~~~~~~~~~~~~~~~\n",
    "\n",
    "def _get_mask_matrix(n_1, n_2, omega):\n",
    "    \"\"\"\n",
    "    If we observed entry (i, j) of matrix M, the entry of mask matrix is 1,\n",
    "    Otherwise 0.\n",
    "    \"\"\"\n",
    "    mask = np.zeros((n_1, n_2), dtype=np.int8)\n",
    "    for i, j in omega:\n",
    "        mask[i, j] = 1\n",
    "    return mask\n",
    "\n",
    "\n",
    "def _get_abs_max_from_matrix(M):\n",
    "    return np.max(np.absolute(M))\n",
    "\n",
    "#~~~~~~~~~~~~~~~~~~~~~~~~~~~~~~~~~~~~~~~~~~~~~~~~~~~~~~~~~~~~~~~~~~~~~~~~~\n",
    "def main(n_1, n_2, r, m):\n",
    "    print(\"#row of M    :\", n_1)\n",
    "    print(\"#column of M :\", n_2)\n",
    "    print(\"#sample      :\", n_1*n_2-m)\n",
    "    k_dict[f'{row_order}x{col_order}']['#missing_entries'].append(m)\n",
    "    M,omega_compl = get_original_matrix()\n",
    "    M_abs_max = _get_abs_max_from_matrix(M)\n",
    "    # print(\"RANK of M    :\", np.linalg.matrix_rank(M))\n",
    "    print(\"|M|_*        :\", np.linalg.norm(M, \"nuc\"))\n",
    "    M_rank = np.linalg.matrix_rank(M)\n",
    "    print(\"RANK of M    :\", M_rank)\n",
    "    U, S, V_T = np.linalg.svd(M, full_matrices=False)\n",
    "    print(S)\n",
    "\n",
    "    # getting samples\n",
    "    omega = [(i, j) for i in range(n_1) for j in range(n_2) if (i,j) not in omega_compl]\n",
    "    mask = _get_mask_matrix(n_1, n_2, omega)\n",
    "\n",
    "    # M_ is for training data removing the data.\n",
    "    # This block should not affect the result.\n",
    "    # Just for defensive programming.\n",
    "    # M_ = np.random.uniform(-M_abs_max, M_abs_max, M.shape)\n",
    "    M_ = M.copy()\n",
    "    np.place(M_, 1 - mask, M_abs_max * M_abs_max)\n",
    "    X = _solve(M_, omega)\n",
    "    X_rank = np.linalg.matrix_rank(X)\n",
    "    print(\"RANK of X    :\", X_rank)\n",
    "    print(\"|X|_*        :\", np.linalg.norm(X, \"nuc\"))\n",
    "    U, S, V_T = np.linalg.svd(X, full_matrices=False)\n",
    "    print(S)\n",
    "\n",
    "    E = np.subtract(M, X)\n",
    "    E_train = E.copy()\n",
    "    np.place(E_train, 1 - mask, 0)\n",
    "    print('TRAIN RMSE   :', np.linalg.norm(E_train, \"fro\") / m)\n",
    "    E_test = E.copy()\n",
    "    np.place(E_test, mask, 0)\n",
    "    print('TEST  RMSE   :', np.linalg.norm(E_test, \"fro\") / (n_1 * n_2 - m))\n",
    "\n",
    "    frobenius_norm_ratio = (\n",
    "        np.linalg.norm(X - M, \"fro\") / np.linalg.norm(M, \"fro\"))\n",
    "    print(\"|X-M|_F/|M|_F:\", frobenius_norm_ratio)  # the metric of paper.\n",
    "\n",
    "#~~~~~~~~~~~~~~~~~~~~~~~~~~~~~~~~~~~~~~~~~~~~~~~~~~~~~~~~~~~~~~~~~~~~~~~~~~\n",
    "if __name__ == '__main__':\n",
    "    main(row_order,col_order, r=2, m=int(row_order * col_order * prob))\n",
    "    \n",
    "# Noting ending time\n",
    "end = time.time()\n",
    "k_dict[f'{row_order}x{col_order}']['ConvexTime'].append(end-start)"
   ]
  },
  {
   "cell_type": "code",
   "execution_count": 159,
   "metadata": {
    "ExecuteTime": {
     "end_time": "2019-10-07T00:00:22.620115Z",
     "start_time": "2019-10-07T00:00:22.611646Z"
    }
   },
   "outputs": [
    {
     "data": {
      "text/plain": [
       "{'10x5': {'row_order': 10,\n",
       "  'col_order': 5,\n",
       "  'prob': [0.2],\n",
       "  '#missing_entries': [],\n",
       "  'k': [5],\n",
       "  'r': [5],\n",
       "  'FPTtime': [],\n",
       "  'ConvexTime': []},\n",
       " '10x10': {'row_order': 10,\n",
       "  'col_order': 10,\n",
       "  'prob': [0.2, 0.2, 0.2, 0.2, 0.2, 0.2],\n",
       "  '#missing_entries': [],\n",
       "  'k': [5, 5, 5, 5, 5, 5],\n",
       "  'r': [],\n",
       "  'FPTtime': [],\n",
       "  'ConvexTime': []},\n",
       " '10x8': {'row_order': 10,\n",
       "  'col_order': 8,\n",
       "  'prob': [0.2, 0.2, 0.2, 0.2, 0.2],\n",
       "  '#missing_entries': [16],\n",
       "  'k': [5, 5, 5, 5],\n",
       "  'r': [8, 0],\n",
       "  'FPTtime': [],\n",
       "  'ConvexTime': [0.5836975574493408]}}"
      ]
     },
     "execution_count": 159,
     "metadata": {},
     "output_type": "execute_result"
    }
   ],
   "source": [
    "k_dict"
   ]
  },
  {
   "cell_type": "markdown",
   "metadata": {},
   "source": [
    "#### Saving the dict:"
   ]
  },
  {
   "cell_type": "code",
   "execution_count": 161,
   "metadata": {
    "ExecuteTime": {
     "end_time": "2019-10-07T00:01:01.454905Z",
     "start_time": "2019-10-07T00:01:01.449263Z"
    }
   },
   "outputs": [],
   "source": [
    "import pickle\n",
    "with open(f'{row_order}x{col_order}.pkl','wb') as fp:\n",
    "    pickle.dump(k_dict,fp, protocol=pickle.HIGHEST_PROTOCOL)\n",
    "with open(f'{row_order}x{col_order}.pkl','rb') as fp:\n",
    "    k_dict = pickle.load(fp)"
   ]
  },
  {
   "cell_type": "code",
   "execution_count": null,
   "metadata": {},
   "outputs": [],
   "source": []
  }
 ],
 "metadata": {
  "kernelspec": {
   "display_name": "Python 3",
   "language": "python",
   "name": "python3"
  },
  "language_info": {
   "codemirror_mode": {
    "name": "ipython",
    "version": 3
   },
   "file_extension": ".py",
   "mimetype": "text/x-python",
   "name": "python",
   "nbconvert_exporter": "python",
   "pygments_lexer": "ipython3",
   "version": "3.6.5"
  }
 },
 "nbformat": 4,
 "nbformat_minor": 2
}

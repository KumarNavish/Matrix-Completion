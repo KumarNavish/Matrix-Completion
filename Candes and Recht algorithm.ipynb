{
 "cells": [
  {
   "cell_type": "markdown",
   "metadata": {},
   "source": [
    "### Candes and Recht algorithm"
   ]
  },
  {
   "cell_type": "code",
   "execution_count": null,
   "metadata": {
    "ExecuteTime": {
     "start_time": "2019-10-06T11:02:45.149Z"
    }
   },
   "outputs": [],
   "source": [
    "k_dict = {'50x30': {'row_order': 50,\n",
    "  'col_order': 30,\n",
    "  'prob': [0.1, 0.2, 0.3, 0.32, 0.34, 0.36],\n",
    "  '#missing_entries': [150, 300, 450, 480, 510, 540],\n",
    "  'k': [47, 49, 49, 49, 49, 49],\n",
    "  'r': [30, 30, 29, 29, 29],\n",
    "  'FPTtime': [0.22645235061645508,\n",
    "   0.30129432678222656,\n",
    "   4.639664888381958,\n",
    "   5.561783075332642,\n",
    "   8.93376088142395,\n",
    "   14.116338968276978],\n",
    "  'ConvexTime': [30.946329832077026,\n",
    "   29.21294355392456,\n",
    "   30.66036343574524,\n",
    "   32.6079523563385,\n",
    "   32.3644814491272,\n",
    "   32.75907897949219]}}"
   ]
  },
  {
   "cell_type": "markdown",
   "metadata": {},
   "source": [
    "`M: The true matrix.\n",
    "n_1: The number of row of the matrix M.\n",
    "n_2: The number of column of the matrix M.\n",
    "r: The rank of the matrix M.\n",
    "omega: The sample set. observed entry (i, j) in the sample set omega.\n",
    "M_: Input of algorithm. The matrix to recover.\n",
    "X_: The matrix to recover in SDP.\n",
    "X: The solution of nuclear norm minimization.`"
   ]
  },
  {
   "cell_type": "code",
   "execution_count": 52,
   "metadata": {
    "ExecuteTime": {
     "end_time": "2019-10-05T23:19:14.621682Z",
     "start_time": "2019-10-05T23:19:14.616836Z"
    }
   },
   "outputs": [],
   "source": [
    "import random\n",
    "import math\n",
    "import itertools\n",
    "import time\n",
    "import random\n",
    "import numpy as np\n",
    "from cvxpy import *"
   ]
  },
  {
   "cell_type": "code",
   "execution_count": null,
   "metadata": {
    "ExecuteTime": {
     "start_time": "2019-10-05T16:50:31.519Z"
    }
   },
   "outputs": [
    {
     "name": "stdout",
     "output_type": "stream",
     "text": [
      "#row of M    : 100\n",
      "#column of M : 50\n",
      "#sample      : 2000\n",
      "|M|_*        : 2133.2447766751675\n",
      "RANK of M    : 5\n",
      "[1.53594198e+03 1.71085592e+02 1.60756352e+02 1.55529771e+02\n",
      " 1.09931082e+02 1.49045517e-13 1.49045517e-13 1.49045517e-13\n",
      " 1.49045517e-13 1.49045517e-13 1.49045517e-13 1.49045517e-13\n",
      " 1.49045517e-13 1.49045517e-13 1.49045517e-13 1.49045517e-13\n",
      " 1.49045517e-13 1.49045517e-13 1.49045517e-13 1.49045517e-13\n",
      " 1.49045517e-13 1.49045517e-13 1.49045517e-13 1.49045517e-13\n",
      " 1.49045517e-13 1.49045517e-13 1.49045517e-13 1.49045517e-13\n",
      " 1.49045517e-13 1.49045517e-13 1.49045517e-13 1.49045517e-13\n",
      " 1.49045517e-13 1.49045517e-13 1.49045517e-13 1.49045517e-13\n",
      " 1.49045517e-13 1.49045517e-13 1.49045517e-13 1.49045517e-13\n",
      " 1.49045517e-13 1.49045517e-13 1.49045517e-13 1.49045517e-13\n",
      " 1.49045517e-13 1.49045517e-13 1.49045517e-13 1.49045517e-13\n",
      " 1.49045517e-13 4.74042001e-14]\n"
     ]
    }
   ],
   "source": [
    "# import random\n",
    "# import math\n",
    "# import itertools\n",
    "# import time\n",
    "# import random\n",
    "# import numpy as np\n",
    "# from cvxpy import *\n",
    "\n",
    "# Noting starting time\n",
    "start = time.time()\n",
    "random.seed(0)\n",
    "rank, p = 5, 1\n",
    "\n",
    "\n",
    "#~~~~~~~~~~~~~~~~~~~~~~~~~~~~~~~~~~~~~~~~~~~~~~~~~~~~~~~~~~~~~~~~~~~~~~~~~~~~~~~~~~~~~~~~~~~~~~~~~~~~~~~~~~~~~~~~\n",
    "def _solve(M, omega):\n",
    "    n_1 = M.shape[0]\n",
    "    n_2 = M.shape[1]\n",
    "    X_ = Semidef(n_1 + n_2)\n",
    "    objective = Minimize(trace(X_))\n",
    "\n",
    "    constraints = [(X_ == X_.T)]  # add symmetric constraint.\n",
    "    for i, j in omega:\n",
    "        constr = (X_[i, j + n_1] == M[i, j])\n",
    "        constraints.append(constr)\n",
    "    problem = Problem(objective, constraints)\n",
    "    problem.solve(solver=CVXOPT)\n",
    "\n",
    "    print(\"STATUS       :\", problem.status)\n",
    "    print(\"OPTIMAL VALUE:\", problem.value)\n",
    "\n",
    "    X0 = X_.value\n",
    "    # check optimizer's solution is symmetric.\n",
    "    print(\"|X0-X0.T|_F  :\", np.linalg.norm(np.subtract(X0, X0.T), \"fro\"))\n",
    "    return X_.value[:n_1, n_1:]\n",
    "\n",
    "#~~~~~~~~~~~~~~~~~~~~~~~~~~~~~~~~~~~~~~~~~~~~~~~~~~~~~~~~~~~~~~~~~~~~~~~~~~~~~~~~~~~~~~~~~~~~~~~~~~~~~~~~~~~~~~~~\n",
    "\n",
    "def _generate_omega(n_1, n_2, m):\n",
    "    random.seed(0)\n",
    "    return random.sample([(i, j) for i in range(n_1-1) for j in range(n_2-1)], m)\n",
    "\n",
    "\n",
    "def _get_mask_matrix(n_1, n_2, omega):\n",
    "    \"\"\"\n",
    "    If we observed entry (i, j) of matrix M, the entry of mask matrix is 1,\n",
    "    Otherwise 0.\n",
    "    \"\"\"\n",
    "    mask = np.zeros((n_1, n_2), dtype=np.int8)\n",
    "    for i, j in omega:\n",
    "        mask[i, j] = 1\n",
    "    return mask\n",
    "\n",
    "\n",
    "def _get_abs_max_from_matrix(M):\n",
    "    return np.max(np.absolute(M))\n",
    "\n",
    "#~~~~~~~~~~~~~~~~~~~~~~~~~~~~~~~~~~~~~~~~~~~~~~~~~~~~~~~~~~~~~~~~~~~~~~~~~~~~~~~~~~~~~~~~~~~~~~~~~~~~~~~~~~~~~~~~\n",
    "def main(n_1, n_2, r, m):\n",
    "    print(\"#row of M    :\", n_1)\n",
    "    print(\"#column of M :\", n_2)\n",
    "    print(\"#sample      :\", m)\n",
    "    random.seed(0)\n",
    "    L = np.array(np.random.randint(p,size=(row_order,rank)),dtype=float)\n",
    "    R = np.array(np.random.randint(p,size=(col_order,rank)),dtype=float)\n",
    "    M = L.dot(R.T)\n",
    "    M_abs_max = _get_abs_max_from_matrix(M)\n",
    "    # print(\"RANK of M    :\", np.linalg.matrix_rank(M))\n",
    "    print(\"|M|_*        :\", np.linalg.norm(M, \"nuc\"))\n",
    "    M_rank = np.linalg.matrix_rank(M)\n",
    "    print(\"RANK of M    :\", M_rank)\n",
    "    U, S, V_T = np.linalg.svd(M, full_matrices=False)\n",
    "    print(S)\n",
    "\n",
    "    omega = _generate_omega(n_1, n_2, m)\n",
    "    \n",
    "    #for calculating K\n",
    "    i,_ = zip(*omega)\n",
    "    k_dict[f'{row_order}x{col_order}']['k'] = len(len(set(i)))\n",
    "    \n",
    "    mask = _get_mask_matrix(n_1, n_2, omega)\n",
    "\n",
    "    # M_ is for training data removing the data.\n",
    "    # This block should not affect the result.\n",
    "    # Just for defensive programming.\n",
    "    # M_ = np.random.uniform(-M_abs_max, M_abs_max, M.shape)\n",
    "    M_ = M.copy()\n",
    "    np.place(M_, 1 - mask, M_abs_max * M_abs_max)\n",
    "    X = _solve(M_, omega)\n",
    "    X_rank = np.linalg.matrix_rank(X)\n",
    "    print(\"RANK of X    :\", X_rank)\n",
    "    print(\"|X|_*        :\", np.linalg.norm(X, \"nuc\"))\n",
    "    U, S, V_T = np.linalg.svd(X, full_matrices=False)\n",
    "    print(S)\n",
    "\n",
    "    E = np.subtract(M, X)\n",
    "    E_train = E.copy()\n",
    "    np.place(E_train, 1 - mask, 0)\n",
    "    print('TRAIN RMSE   :', np.linalg.norm(E_train, \"fro\") / m)\n",
    "    E_test = E.copy()\n",
    "    np.place(E_test, mask, 0)\n",
    "    print('TEST  RMSE   :', np.linalg.norm(E_test, \"fro\") / (n_1 * n_2 - m))\n",
    "\n",
    "    frobenius_norm_ratio = (\n",
    "        np.linalg.norm(X - M, \"fro\") / np.linalg.norm(M, \"fro\"))\n",
    "    print(\"|X-M|_F/|M|_F:\", frobenius_norm_ratio)  # the metric of paper.\n",
    "\n",
    "#~~~~~~~~~~~~~~~~~~~~~~~~~~~~~~~~~~~~~~~~~~~~~~~~~~~~~~~~~~~~~~~~~~~~~~~~~~~~~~~~~~~~~~~~~~~~~~~~~~~~~~~~~~~~~~~~\n",
    "if __name__ == '__main__':\n",
    "    row_order,col_order = (100,50)\n",
    "    \n",
    "    # for plotting purposes\n",
    "    k_dict[f'{row_order}x{col_order}']={}\n",
    "    k_dict[f'{row_order}x{col_order}']['row_order'] = row_order\n",
    "    k_dict[f'{row_order}x{col_order}']['col_order'] = col_order\n",
    "    k_dict[f'{row_order}x{col_order}']['r'] = r\n",
    "    q = 0.4\n",
    "    main(row_order,col_order, r=2, m=int(row_order * col_order * q))\n",
    "    \n",
    "# Noting ending time\n",
    "end = time.time()\n",
    "k_dict[f'{row_order}x{col_order}']['time'] = end-start"
   ]
  },
  {
   "cell_type": "code",
   "execution_count": null,
   "metadata": {},
   "outputs": [],
   "source": [
    "random.seed(0)\n",
    "i,_ = zip(*random.sample([(i, j) for i in range(4) for j in range(4)], 5))\n",
    "len(set(i))"
   ]
  },
  {
   "cell_type": "code",
   "execution_count": 49,
   "metadata": {
    "ExecuteTime": {
     "end_time": "2019-10-05T23:09:42.010999Z",
     "start_time": "2019-10-05T23:09:42.003363Z"
    }
   },
   "outputs": [
    {
     "data": {
      "text/plain": [
       "[(3, 0), (3, 3), (1, 2), (0, 0), (1, 0)]"
      ]
     },
     "execution_count": 49,
     "metadata": {},
     "output_type": "execute_result"
    }
   ],
   "source": [
    "random.seed(0)\n",
    "random.sample([(i, j) for i in range(4) for j in range(4)],5)"
   ]
  }
 ],
 "metadata": {
  "kernelspec": {
   "display_name": "Python 3",
   "language": "python",
   "name": "python3"
  },
  "language_info": {
   "codemirror_mode": {
    "name": "ipython",
    "version": 3
   },
   "file_extension": ".py",
   "mimetype": "text/x-python",
   "name": "python",
   "nbconvert_exporter": "python",
   "pygments_lexer": "ipython3",
   "version": "3.6.5"
  }
 },
 "nbformat": 4,
 "nbformat_minor": 2
}

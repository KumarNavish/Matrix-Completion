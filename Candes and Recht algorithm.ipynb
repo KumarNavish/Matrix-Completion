{
 "cells": [
  {
   "cell_type": "markdown",
   "metadata": {},
   "source": [
    "### Candes and Recht algorithm"
   ]
  },
  {
   "cell_type": "markdown",
   "metadata": {},
   "source": [
    "`M: The true matrix.\n",
    "n_1: The number of row of the matrix M.\n",
    "n_2: The number of column of the matrix M.\n",
    "r: The rank of the matrix M.\n",
    "omega: The sample set. observed entry (i, j) in the sample set omega.\n",
    "M_: Input of algorithm. The matrix to recover.\n",
    "X_: The matrix to recover in SDP.\n",
    "X: The solution of nuclear norm minimization.`"
   ]
  },
  {
   "cell_type": "markdown",
   "metadata": {},
   "source": [
    "## Importing required libraries"
   ]
  },
  {
   "cell_type": "code",
   "execution_count": 1,
   "metadata": {
    "ExecuteTime": {
     "end_time": "2019-10-07T00:07:51.658231Z",
     "start_time": "2019-10-07T00:07:51.382832Z"
    }
   },
   "outputs": [],
   "source": [
    "import random\n",
    "import math\n",
    "import itertools\n",
    "import time\n",
    "import random\n",
    "import numpy as np\n",
    "from cvxpy import *\n",
    "k_dict = {}"
   ]
  },
  {
   "cell_type": "markdown",
   "metadata": {},
   "source": [
    "## Algorithm"
   ]
  },
  {
   "cell_type": "code",
   "execution_count": 3,
   "metadata": {
    "ExecuteTime": {
     "end_time": "2019-10-07T00:12:20.528725Z",
     "start_time": "2019-10-07T00:11:32.493635Z"
    }
   },
   "outputs": [
    {
     "name": "stdout",
     "output_type": "stream",
     "text": [
      "#row of M    : 50\n",
      "#column of M : 30\n",
      "#sample      : 600\n",
      "|M|_*        : 343.5895610946623\n",
      "RANK of M    : 30\n",
      "[79.37476038 16.78679047 15.63817715 14.87347902 14.04660342 13.29268872\n",
      " 13.09834468 12.5367474  12.0600272  11.60430432 11.15630899 10.9591045\n",
      " 10.46364893  9.91103125  9.64083746  8.93049595  8.46673553  8.25580114\n",
      "  7.90585076  7.28195346  6.83633487  6.41226258  5.34605876  4.95817168\n",
      "  4.84037997  4.68116214  4.21285944  3.70405958  3.39825395  2.91632738]\n",
      "STATUS       : optimal\n",
      "OPTIMAL VALUE: 419.3497008673506\n",
      "|X0-X0.T|_F  : 0.0\n",
      "RANK of X    : 29\n",
      "|X|_*        : 209.674850450624\n",
      "[6.88529237e+01 1.78355782e+01 1.56492160e+01 1.38855989e+01\n",
      " 1.25637484e+01 1.15899788e+01 1.11654361e+01 9.92746847e+00\n",
      " 8.83172650e+00 7.27472772e+00 6.29859996e+00 5.77872269e+00\n",
      " 5.07047378e+00 4.45237896e+00 4.13944768e+00 2.72310972e+00\n",
      " 1.89349960e+00 1.33446391e+00 4.07751362e-01 5.78715172e-09\n",
      " 3.38682681e-09 3.04112134e-09 1.85503294e-09 1.31909843e-09\n",
      " 1.06753856e-09 9.53332757e-10 7.62228196e-10 6.29182478e-10\n",
      " 5.47253399e-10 3.05768405e-14]\n",
      "TRAIN RMSE   : 1.0467283057891835e-18\n",
      "TEST  RMSE   : 0.061209644431127905\n",
      "|X-M|_F/|M|_F: 0.5759377591528119\n"
     ]
    }
   ],
   "source": [
    "# Noting starting time\n",
    "start = time.time()\n",
    "random.seed(0)\n",
    "rank, p = 5, 5\n",
    "\n",
    "\n",
    "#~~~~~~~~~~~~~~~~~~~~~~~~~~~~~~~~~~~~~~~~~~~~~~~~~~~~~~~~~~~~~~~~~~~~~~~~~~~~~~~~~~~~~~~~~~~~~~~~~~~~~~~~~~~~~~~~\n",
    "def _solve(M, omega):\n",
    "    n_1 = M.shape[0]\n",
    "    n_2 = M.shape[1]\n",
    "    X_ = Semidef(n_1 + n_2)\n",
    "    objective = Minimize(trace(X_))\n",
    "\n",
    "    constraints = [(X_ == X_.T)]  # add symmetric constraint.\n",
    "    for i, j in omega:\n",
    "        constr = (X_[i, j + n_1] == M[i, j])\n",
    "        constraints.append(constr)\n",
    "    problem = Problem(objective, constraints)\n",
    "    problem.solve(solver=CVXOPT)\n",
    "\n",
    "    print(\"STATUS       :\", problem.status)\n",
    "    print(\"OPTIMAL VALUE:\", problem.value)\n",
    "\n",
    "    X0 = X_.value\n",
    "    # check optimizer's solution is symmetric.\n",
    "    print(\"|X0-X0.T|_F  :\", np.linalg.norm(np.subtract(X0, X0.T), \"fro\"))\n",
    "    return X_.value[:n_1, n_1:]\n",
    "\n",
    "#~~~~~~~~~~~~~~~~~~~~~~~~~~~~~~~~~~~~~~~~~~~~~~~~~~~~~~~~~~~~~~~~~~~~~~~~~~~~~~~~~~~~~~~~~~~~~~~~~~~~~~~~~~~~~~~~\n",
    "\n",
    "def _generate_omega(n_1, n_2, m):\n",
    "    random.seed(0)\n",
    "    return random.sample([(i, j) for i in range(n_1-1) for j in range(n_2-1)], m)\n",
    "\n",
    "\n",
    "def _get_mask_matrix(n_1, n_2, omega):\n",
    "    \"\"\"\n",
    "    If we observed entry (i, j) of matrix M, the entry of mask matrix is 1,\n",
    "    Otherwise 0.\n",
    "    \"\"\"\n",
    "    mask = np.zeros((n_1, n_2), dtype=np.int8)\n",
    "    for i, j in omega:\n",
    "        mask[i, j] = 1\n",
    "    return mask\n",
    "\n",
    "\n",
    "def _get_abs_max_from_matrix(M):\n",
    "    return np.max(np.absolute(M))\n",
    "\n",
    "#~~~~~~~~~~~~~~~~~~~~~~~~~~~~~~~~~~~~~~~~~~~~~~~~~~~~~~~~~~~~~~~~~~~~~~~~~~~~~~~~~~~~~~~~~~~~~~~~~~~~~~~~~~~~~~~~\n",
    "def main(n_1, n_2, r, m):\n",
    "    print(\"#row of M    :\", n_1)\n",
    "    print(\"#column of M :\", n_2)\n",
    "    print(\"#sample      :\", m)\n",
    "    random.seed(0)\n",
    "    L = np.array(np.random.randint(p,size=(row_order,rank)),dtype=float)\n",
    "    R = np.array(np.random.randint(p,size=(col_order,rank)),dtype=float)\n",
    "    M = L.dot(R.T)%p\n",
    "    M_abs_max = _get_abs_max_from_matrix(M)\n",
    "    # print(\"RANK of M    :\", np.linalg.matrix_rank(M))\n",
    "    print(\"|M|_*        :\", np.linalg.norm(M, \"nuc\"))\n",
    "    M_rank = np.linalg.matrix_rank(M)\n",
    "    print(\"RANK of M    :\", M_rank)\n",
    "    U, S, V_T = np.linalg.svd(M, full_matrices=False)\n",
    "    print(S)\n",
    "\n",
    "    omega = _generate_omega(n_1, n_2, m)\n",
    "    \n",
    "    #for calculating K\n",
    "    i,_ = zip(*omega)\n",
    "    \n",
    "    mask = _get_mask_matrix(n_1, n_2, omega)\n",
    "\n",
    "    # M_ is for training data removing the data.\n",
    "    # This block should not affect the result.\n",
    "    # Just for defensive programming.\n",
    "    # M_ = np.random.uniform(-M_abs_max, M_abs_max, M.shape)\n",
    "    M_ = M.copy()\n",
    "    np.place(M_, 1 - mask, M_abs_max * M_abs_max)\n",
    "    X = _solve(M_, omega)\n",
    "    X_rank = np.linalg.matrix_rank(X)\n",
    "    print(\"RANK of X    :\", X_rank)\n",
    "    print(\"|X|_*        :\", np.linalg.norm(X, \"nuc\"))\n",
    "    U, S, V_T = np.linalg.svd(X, full_matrices=False)\n",
    "    print(S)\n",
    "\n",
    "    E = np.subtract(M, X)\n",
    "    E_train = E.copy()\n",
    "    np.place(E_train, 1 - mask, 0)\n",
    "    print('TRAIN RMSE   :', np.linalg.norm(E_train, \"fro\") / m)\n",
    "    E_test = E.copy()\n",
    "    np.place(E_test, mask, 0)\n",
    "    print('TEST  RMSE   :', np.linalg.norm(E_test, \"fro\") / (n_1 * n_2 - m))\n",
    "\n",
    "    frobenius_norm_ratio = (\n",
    "        np.linalg.norm(X - M, \"fro\") / np.linalg.norm(M, \"fro\"))\n",
    "    print(\"|X-M|_F/|M|_F:\", frobenius_norm_ratio)  # the metric of paper.\n",
    "\n",
    "#~~~~~~~~~~~~~~~~~~~~~~~~~~~~~~~~~~~~~~~~~~~~~~~~~~~~~~~~~~~~~~~~~~~~~~~~~~~~~~~~~~~~~~~~~~~~~~~~~~~~~~~~~~~~~~~~\n",
    "if __name__ == '__main__':\n",
    "    row_order,col_order = (50,30)\n",
    "    q = 0.4\n",
    "    main(row_order,col_order, r=2, m=int(row_order * col_order * q))"
   ]
  },
  {
   "cell_type": "code",
   "execution_count": null,
   "metadata": {},
   "outputs": [],
   "source": []
  }
 ],
 "metadata": {
  "kernelspec": {
   "display_name": "Python 3",
   "language": "python",
   "name": "python3"
  },
  "language_info": {
   "codemirror_mode": {
    "name": "ipython",
    "version": 3
   },
   "file_extension": ".py",
   "mimetype": "text/x-python",
   "name": "python",
   "nbconvert_exporter": "python",
   "pygments_lexer": "ipython3",
   "version": "3.6.5"
  }
 },
 "nbformat": 4,
 "nbformat_minor": 2
}
